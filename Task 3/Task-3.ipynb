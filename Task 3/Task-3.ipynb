{
 "cells": [
  {
   "cell_type": "code",
   "execution_count": 1,
   "metadata": {},
   "outputs": [
    {
     "name": "stdout",
     "output_type": "stream",
     "text": [
      "Requirement already satisfied: pyPDF2 in c:\\users\\vishnu\\appdata\\local\\programs\\python\\python39\\lib\\site-packages (3.0.1)Note: you may need to restart the kernel to use updated packages.\n",
      "\n",
      "Requirement already satisfied: typing_extensions>=3.10.0.0; python_version < \"3.10\" in c:\\users\\vishnu\\appdata\\local\\programs\\python\\python39\\lib\\site-packages (from pyPDF2) (4.5.0)\n"
     ]
    },
    {
     "name": "stderr",
     "output_type": "stream",
     "text": [
      "WARNING: You are using pip version 20.2.3; however, version 23.0.1 is available.\n",
      "You should consider upgrading via the 'c:\\Users\\vishnu\\AppData\\Local\\Programs\\Python\\Python39\\python.exe -m pip install --upgrade pip' command.\n"
     ]
    }
   ],
   "source": [
    "pip install pyPDF2"
   ]
  },
  {
   "cell_type": "code",
   "execution_count": 2,
   "metadata": {},
   "outputs": [],
   "source": [
    "import PyPDF2"
   ]
  },
  {
   "cell_type": "code",
   "execution_count": 3,
   "metadata": {},
   "outputs": [],
   "source": [
    "pdf_file = open('asign.pdf', 'rb')"
   ]
  },
  {
   "cell_type": "code",
   "execution_count": 4,
   "metadata": {},
   "outputs": [],
   "source": [
    "pdf_reader = PyPDF2.PdfReader(pdf_file)"
   ]
  },
  {
   "cell_type": "code",
   "execution_count": 5,
   "metadata": {},
   "outputs": [],
   "source": [
    "num_pages = len(pdf_reader.pages)"
   ]
  },
  {
   "cell_type": "code",
   "execution_count": 6,
   "metadata": {},
   "outputs": [
    {
     "name": "stdout",
     "output_type": "stream",
     "text": [
      "DEPARTMENT OF COMPUTER SCIENCE & ENGINEERING \n",
      "FACULTY OF ENGINEERING & TECHNOLOGY \n",
      "ANNAMALAI                  UNIVERSITY \n",
      " \n",
      " \n",
      "B.E (CSE) DATA SCIENCE \n",
      "VII SEMESTER \n",
      "2022-2023 \n",
      "SOCIAL MEDIA ANALYTICS  \n",
      " \n",
      " \n",
      "TOPIC- SOCIAL MEDIA TEXT ANALYTICS \n",
      " \n",
      "   \n",
      " \n",
      " \n",
      "DR.G.RAMACHANDRAN \n",
      "Associate Professor  \n",
      "Dept. of Computer Science & Engg            \n",
      "Guided by                                                                                                  \n",
      " \n",
      " \n",
      "                                                                                                                   VISHNUDHARAN M  \n",
      "193611009 \n",
      "Submitted by \n"
     ]
    }
   ],
   "source": [
    "for i in range(num_pages):\n",
    "    page = pdf_reader.pages[i]\n",
    "    text = page.extract_text()\n",
    "    print(text)"
   ]
  },
  {
   "cell_type": "code",
   "execution_count": 7,
   "metadata": {},
   "outputs": [],
   "source": [
    "pdf_file.close()"
   ]
  }
 ],
 "metadata": {
  "kernelspec": {
   "display_name": "Python 3",
   "language": "python",
   "name": "python3"
  },
  "language_info": {
   "codemirror_mode": {
    "name": "ipython",
    "version": 3
   },
   "file_extension": ".py",
   "mimetype": "text/x-python",
   "name": "python",
   "nbconvert_exporter": "python",
   "pygments_lexer": "ipython3",
   "version": "3.9.1"
  },
  "orig_nbformat": 4,
  "vscode": {
   "interpreter": {
    "hash": "6c6cd6a7d23a101f52045e6e4a199b1e37f6b549cad7de3490c261841d526b8a"
   }
  }
 },
 "nbformat": 4,
 "nbformat_minor": 2
}
